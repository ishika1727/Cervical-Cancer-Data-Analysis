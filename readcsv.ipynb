{
 "cells": [
  {
   "cell_type": "code",
   "execution_count": 16,
   "metadata": {},
   "outputs": [
    {
     "name": "stdout",
     "output_type": "stream",
     "text": [
      "Collecting findspark\n",
      "  Using cached findspark-1.4.2-py2.py3-none-any.whl (4.2 kB)\n",
      "Installing collected packages: findspark\n",
      "Successfully installed findspark-1.4.2\n",
      "Note: you may need to restart the kernel to use updated packages.\n"
     ]
    }
   ],
   "source": [
    "pip install findspark"
   ]
  },
  {
   "cell_type": "code",
   "execution_count": 3,
   "metadata": {},
   "outputs": [],
   "source": [
    "import findspark"
   ]
  },
  {
   "cell_type": "code",
   "execution_count": 4,
   "metadata": {},
   "outputs": [],
   "source": [
    "findspark.init()"
   ]
  },
  {
   "cell_type": "code",
   "execution_count": 5,
   "metadata": {},
   "outputs": [],
   "source": [
    "import pyspark"
   ]
  },
  {
   "cell_type": "code",
   "execution_count": 6,
   "metadata": {},
   "outputs": [],
   "source": [
    "from pyspark.sql import SparkSession"
   ]
  },
  {
   "cell_type": "code",
   "execution_count": 7,
   "metadata": {},
   "outputs": [],
   "source": [
    "spark = SparkSession.builder.getOrCreate()"
   ]
  },
  {
   "cell_type": "code",
   "execution_count": 8,
   "metadata": {},
   "outputs": [],
   "source": [
    "df=spark.read.csv(\"cervical_cancer.csv\",header=True,mode=\"DROPMALFORMED\",inferSchema='true')"
   ]
  },
  {
   "cell_type": "code",
   "execution_count": 20,
   "metadata": {},
   "outputs": [
    {
     "data": {
      "text/plain": [
       "DataFrame[behavior_sexualRisk: int, behavior_eating: int, behavior_personalHygine: int, intention_aggregation: int, intention_commitment: int, attitude_consistency: int, attitude_spontaneity: int, norm_significantPerson: int, norm_fulfillment: int, perception_vulnerability: int, perception_severity: int, motivation_strength: int, motivation_willingness: int, socialSupport_emotionality: int, socialSupport_appreciation: int, socialSupport_instrumental: int, empowerment_knowledge: int, empowerment_abilities: int, empowerment_desires: int, ca_cervix: int]"
      ]
     },
     "execution_count": 20,
     "metadata": {},
     "output_type": "execute_result"
    }
   ],
   "source": [
    "df\n"
   ]
  },
  {
   "cell_type": "code",
   "execution_count": 10,
   "metadata": {},
   "outputs": [
    {
     "name": "stdout",
     "output_type": "stream",
     "text": [
      "+-------------------+---------------+-----------------------+---------------------+--------------------+--------------------+--------------------+----------------------+----------------+------------------------+-------------------+-------------------+----------------------+--------------------------+--------------------------+--------------------------+---------------------+---------------------+-------------------+---------+\n",
      "|behavior_sexualRisk|behavior_eating|behavior_personalHygine|intention_aggregation|intention_commitment|attitude_consistency|attitude_spontaneity|norm_significantPerson|norm_fulfillment|perception_vulnerability|perception_severity|motivation_strength|motivation_willingness|socialSupport_emotionality|socialSupport_appreciation|socialSupport_instrumental|empowerment_knowledge|empowerment_abilities|empowerment_desires|ca_cervix|\n",
      "+-------------------+---------------+-----------------------+---------------------+--------------------+--------------------+--------------------+----------------------+----------------+------------------------+-------------------+-------------------+----------------------+--------------------------+--------------------------+--------------------------+---------------------+---------------------+-------------------+---------+\n",
      "|                 10|             13|                     12|                    4|                   7|                   9|                  10|                     1|               8|                       7|                  3|                 14|                     8|                         5|                         7|                        12|                   12|                   11|                  8|        1|\n",
      "|                 10|             11|                     11|                   10|                  14|                   7|                   7|                     5|               5|                       4|                  2|                 15|                    13|                         7|                         6|                         5|                    5|                    4|                  4|        1|\n",
      "|                 10|             15|                      3|                    2|                  14|                   8|                  10|                     1|               4|                       7|                  2|                  7|                     3|                         3|                         6|                        11|                    3|                    3|                 15|        1|\n",
      "|                 10|             11|                     10|                   10|                  15|                   7|                   7|                     1|               5|                       4|                  2|                 15|                    13|                         7|                         4|                         4|                    4|                    4|                  4|        1|\n",
      "|                  8|             11|                      7|                    8|                  10|                   7|                   8|                     1|               5|                       3|                  2|                 15|                     5|                         3|                         6|                        12|                    5|                    4|                  7|        1|\n",
      "|                 10|             14|                      8|                    6|                  15|                   8|                  10|                     1|               3|                       4|                  2|                 14|                     8|                         7|                         2|                         7|                   13|                    9|                  6|        1|\n",
      "|                 10|             15|                      4|                    6|                  14|                   6|                  10|                     5|               3|                       7|                  2|                  7|                    13|                         3|                         3|                        15|                    3|                    3|                  5|        1|\n",
      "|                  8|             12|                      9|                   10|                  10|                   5|                  10|                     5|               5|                       5|                  2|                 10|                     9|                        13|                         2|                         9|                    8|                    7|                 12|        1|\n",
      "|                 10|             15|                      7|                    2|                  15|                   6|                  10|                     1|               3|                       5|                  2|                  9|                    15|                        13|                        10|                        15|                   13|                   15|                 15|        1|\n",
      "|                  7|             15|                      7|                    6|                  11|                   8|                   8|                     5|               3|                       3|                  4|                 15|                     3|                         8|                         2|                         9|                    3|                    4|                  4|        1|\n",
      "|                  7|             15|                      7|                   10|                  14|                   7|                   9|                     1|               3|                       8|                  2|                  4|                     3|                         7|                         9|                        13|                    8|                    3|                  9|        1|\n",
      "|                 10|             15|                      8|                    9|                  15|                   7|                  10|                     1|               3|                       7|                  2|                 15|                     3|                         3|                         6|                        13|                    7|                    5|                  9|        1|\n",
      "|                 10|             15|                     12|                   10|                  15|                   6|                  10|                     1|               3|                       3|                  2|                  4|                     3|                         3|                         2|                        15|                   13|                    6|                 11|        1|\n",
      "|                  9|             12|                     14|                    9|                  15|                  10|                   9|                     3|               6|                       3|                  2|                 15|                    15|                         3|                        10|                        15|                   11|                    3|                 11|        1|\n",
      "|                  2|             15|                     15|                    6|                  13|                   8|                   9|                     1|               3|                       3|                  4|                 15|                     3|                         7|                         6|                         7|                    7|                    7|                  3|        1|\n",
      "|                 10|             15|                      7|                    6|                  14|                   8|                   8|                     4|               8|                      10|                  2|                  3|                     3|                         3|                         2|                         5|                    5|                    5|                  3|        1|\n",
      "|                 10|             15|                      9|                    7|                   6|                   8|                   8|                     1|              12|                       5|                  4|                  5|                     4|                         3|                         3|                         5|                    7|                    7|                  3|        1|\n",
      "|                 10|             12|                      7|                    5|                  10|                   8|                   8|                     1|               8|                      10|                  4|                  6|                     3|                         3|                         2|                         4|                    4|                    3|                  5|        1|\n",
      "|                 10|             11|                     12|                    2|                  10|                   8|                   8|                     2|              10|                       8|                  7|                  6|                     5|                         3|                         2|                         4|                    4|                    4|                  3|        1|\n",
      "|                 10|             12|                     12|                    8|                  10|                   8|                   6|                     2|               7|                       6|                  2|                 12|                    11|                         9|                         8|                        12|                   10|                   10|                  9|        1|\n",
      "+-------------------+---------------+-----------------------+---------------------+--------------------+--------------------+--------------------+----------------------+----------------+------------------------+-------------------+-------------------+----------------------+--------------------------+--------------------------+--------------------------+---------------------+---------------------+-------------------+---------+\n",
      "only showing top 20 rows\n",
      "\n"
     ]
    }
   ],
   "source": [
    "df.show()"
   ]
  },
  {
   "cell_type": "code",
   "execution_count": 11,
   "metadata": {},
   "outputs": [
    {
     "name": "stdout",
     "output_type": "stream",
     "text": [
      "root\n",
      " |-- behavior_sexualRisk: integer (nullable = true)\n",
      " |-- behavior_eating: integer (nullable = true)\n",
      " |-- behavior_personalHygine: integer (nullable = true)\n",
      " |-- intention_aggregation: integer (nullable = true)\n",
      " |-- intention_commitment: integer (nullable = true)\n",
      " |-- attitude_consistency: integer (nullable = true)\n",
      " |-- attitude_spontaneity: integer (nullable = true)\n",
      " |-- norm_significantPerson: integer (nullable = true)\n",
      " |-- norm_fulfillment: integer (nullable = true)\n",
      " |-- perception_vulnerability: integer (nullable = true)\n",
      " |-- perception_severity: integer (nullable = true)\n",
      " |-- motivation_strength: integer (nullable = true)\n",
      " |-- motivation_willingness: integer (nullable = true)\n",
      " |-- socialSupport_emotionality: integer (nullable = true)\n",
      " |-- socialSupport_appreciation: integer (nullable = true)\n",
      " |-- socialSupport_instrumental: integer (nullable = true)\n",
      " |-- empowerment_knowledge: integer (nullable = true)\n",
      " |-- empowerment_abilities: integer (nullable = true)\n",
      " |-- empowerment_desires: integer (nullable = true)\n",
      " |-- ca_cervix: integer (nullable = true)\n",
      "\n"
     ]
    }
   ],
   "source": [
    "df.printSchema()"
   ]
  },
  {
   "cell_type": "code",
   "execution_count": 12,
   "metadata": {},
   "outputs": [
    {
     "name": "stdout",
     "output_type": "stream",
     "text": [
      "+---------------+\n",
      "|behavior_eating|\n",
      "+---------------+\n",
      "|             13|\n",
      "|             11|\n",
      "|             15|\n",
      "|             11|\n",
      "|             11|\n",
      "|             14|\n",
      "|             15|\n",
      "|             12|\n",
      "|             15|\n",
      "|             15|\n",
      "|             15|\n",
      "|             15|\n",
      "|             15|\n",
      "|             12|\n",
      "|             15|\n",
      "|             15|\n",
      "|             15|\n",
      "|             12|\n",
      "|             11|\n",
      "|             12|\n",
      "+---------------+\n",
      "only showing top 20 rows\n",
      "\n"
     ]
    }
   ],
   "source": [
    "df.select('behavior_eating').show()"
   ]
  },
  {
   "cell_type": "code",
   "execution_count": 14,
   "metadata": {},
   "outputs": [
    {
     "name": "stdout",
     "output_type": "stream",
     "text": [
      "+-------------------+---------------+-----------------------+---------------------+--------------------+--------------------+--------------------+----------------------+----------------+------------------------+-------------------+-------------------+----------------------+--------------------------+--------------------------+--------------------------+---------------------+---------------------+-------------------+---------+\n",
      "|behavior_sexualRisk|behavior_eating|behavior_personalHygine|intention_aggregation|intention_commitment|attitude_consistency|attitude_spontaneity|norm_significantPerson|norm_fulfillment|perception_vulnerability|perception_severity|motivation_strength|motivation_willingness|socialSupport_emotionality|socialSupport_appreciation|socialSupport_instrumental|empowerment_knowledge|empowerment_abilities|empowerment_desires|ca_cervix|\n",
      "+-------------------+---------------+-----------------------+---------------------+--------------------+--------------------+--------------------+----------------------+----------------+------------------------+-------------------+-------------------+----------------------+--------------------------+--------------------------+--------------------------+---------------------+---------------------+-------------------+---------+\n",
      "|                  8|             12|                      9|                   10|                  10|                   5|                  10|                     5|               5|                       5|                  2|                 10|                     9|                        13|                         2|                         9|                    8|                    7|                 12|        1|\n",
      "|                 10|             15|                      7|                    2|                  15|                   6|                  10|                     1|               3|                       5|                  2|                  9|                    15|                        13|                        10|                        15|                   13|                   15|                 15|        1|\n",
      "|                 10|             13|                     14|                   10|                  15|                   6|                   8|                     1|               5|                       5|                  2|                 15|                    10|                        12|                         8|                        15|                   15|                   15|                 15|        0|\n",
      "|                 10|             15|                     13|                   10|                  15|                   2|                  10|                     1|               5|                       6|                  2|                 14|                    14|                        14|                         8|                        14|                   15|                   14|                 15|        0|\n",
      "|                 10|             13|                     15|                    8|                  13|                   7|                   8|                     3|               5|                       9|                  2|                 13|                    11|                        12|                         9|                        10|                   12|                   13|                 12|        0|\n",
      "|                 10|             15|                     11|                   10|                  15|                   8|                  10|                     1|               3|                       3|                  2|                 15|                    13|                        13|                        10|                        15|                   15|                   13|                 15|        0|\n",
      "|                 10|             11|                     11|                   10|                  14|                   5|                   8|                     1|               4|                       3|                  4|                 15|                    11|                        13|                         9|                        13|                   13|                   12|                 13|        0|\n",
      "|                 10|              8|                      9|                   10|                  15|                  10|                  10|                     1|               3|                       3|                  2|                 15|                    13|                        11|                         6|                        15|                   15|                   10|                 15|        0|\n",
      "|                 10|             15|                     15|                    8|                   9|                   8|                   9|                     4|               7|                       6|                  4|                 12|                    12|                        14|                         9|                        14|                   13|                    9|                 12|        0|\n",
      "|                 10|             10|                     11|                   10|                  15|                   5|                   8|                     1|               5|                       3|                  6|                 15|                    13|                        13|                        10|                        15|                   13|                   13|                 13|        0|\n",
      "|                 10|             15|                      9|                    3|                  15|                   8|                  10|                     1|               3|                       5|                  6|                 10|                    15|                        13|                        10|                        15|                   15|                   15|                 15|        0|\n",
      "|                 10|             10|                     12|                    5|                   7|                   6|                   6|                     4|               5|                      10|                  4|                 11|                     9|                        11|                         8|                        11|                   11|                   10|                 11|        0|\n",
      "|                 10|              9|                     11|                   10|                  15|                   7|                   6|                     1|               3|                       6|                  2|                 15|                    15|                        15|                        10|                        15|                   15|                   15|                 14|        0|\n",
      "|                 10|             14|                     14|                   10|                  11|                   5|                   9|                     1|               5|                       4|                  2|                 14|                    15|                        11|                         8|                        14|                   13|                   13|                 13|        0|\n",
      "|                 10|             15|                     15|                   10|                  15|                   8|                   8|                     5|              11|                      15|                 10|                 15|                    15|                        15|                        10|                        15|                   15|                   15|                 15|        0|\n",
      "|                 10|             15|                     15|                   10|                  15|                   9|                  10|                     5|              11|                      15|                 10|                 15|                    15|                        15|                        10|                        15|                   15|                   15|                 15|        0|\n",
      "|                 10|             15|                     14|                   10|                  11|                  10|                   8|                     5|              11|                      15|                 10|                 15|                    15|                        15|                        10|                        15|                   15|                   15|                 15|        0|\n",
      "|                 10|             15|                     15|                    6|                  11|                   7|                   6|                     5|              11|                      13|                 10|                 15|                    15|                        11|                        10|                        15|                   11|                   11|                 15|        0|\n",
      "|                 10|             11|                     15|                   10|                  11|                   6|                  10|                     5|              15|                      11|                 10|                 15|                    15|                        15|                         6|                         9|                   15|                   15|                  9|        0|\n",
      "|                 10|             15|                     15|                   10|                  15|                  10|                  10|                     5|              15|                      14|                  9|                  9|                    13|                        12|                         9|                        15|                   15|                   15|                 15|        0|\n",
      "+-------------------+---------------+-----------------------+---------------------+--------------------+--------------------+--------------------+----------------------+----------------+------------------------+-------------------+-------------------+----------------------+--------------------------+--------------------------+--------------------------+---------------------+---------------------+-------------------+---------+\n",
      "only showing top 20 rows\n",
      "\n"
     ]
    }
   ],
   "source": [
    "df.filter(df['socialSupport_emotionality']>10).show()"
   ]
  },
  {
   "cell_type": "code",
   "execution_count": 28,
   "metadata": {},
   "outputs": [],
   "source": [
    "df.createOrReplaceTempView(\"sample\")"
   ]
  },
  {
   "cell_type": "code",
   "execution_count": 29,
   "metadata": {},
   "outputs": [
    {
     "name": "stdout",
     "output_type": "stream",
     "text": [
      "+---------------+\n",
      "|behavior_eating|\n",
      "+---------------+\n",
      "|             13|\n",
      "|             11|\n",
      "|             15|\n",
      "|             11|\n",
      "|             11|\n",
      "|             14|\n",
      "|             15|\n",
      "|             12|\n",
      "|             15|\n",
      "|             15|\n",
      "|             15|\n",
      "|             15|\n",
      "|             15|\n",
      "|             12|\n",
      "|             15|\n",
      "|             15|\n",
      "|             15|\n",
      "|             12|\n",
      "|             11|\n",
      "|             12|\n",
      "+---------------+\n",
      "only showing top 20 rows\n",
      "\n"
     ]
    }
   ],
   "source": [
    "be=spark.sql(\" SELECT behavior_eating from sample \").show()"
   ]
  },
  {
   "cell_type": "code",
   "execution_count": null,
   "metadata": {},
   "outputs": [],
   "source": []
  }
 ],
 "metadata": {
  "kernelspec": {
   "display_name": "Python 3",
   "language": "python",
   "name": "python3"
  },
  "language_info": {
   "codemirror_mode": {
    "name": "ipython",
    "version": 3
   },
   "file_extension": ".py",
   "mimetype": "text/x-python",
   "name": "python",
   "nbconvert_exporter": "python",
   "pygments_lexer": "ipython3",
   "version": "3.8.3"
  }
 },
 "nbformat": 4,
 "nbformat_minor": 4
}
