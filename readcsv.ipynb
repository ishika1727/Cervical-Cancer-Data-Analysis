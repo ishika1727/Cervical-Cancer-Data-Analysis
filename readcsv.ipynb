{
 "cells": [
  {
   "cell_type": "code",
   "execution_count": 16,
   "metadata": {},
   "outputs": [
    {
     "name": "stdout",
     "output_type": "stream",
     "text": [
      "Collecting findspark\n",
      "  Using cached findspark-1.4.2-py2.py3-none-any.whl (4.2 kB)\n",
      "Installing collected packages: findspark\n",
      "Successfully installed findspark-1.4.2\n",
      "Note: you may need to restart the kernel to use updated packages.\n"
     ]
    }
   ],
   "source": [
    "pip install findspark"
   ]
  },
  {
   "cell_type": "code",
   "execution_count": 1,
   "metadata": {},
   "outputs": [],
   "source": [
    "import findspark"
   ]
  },
  {
   "cell_type": "code",
   "execution_count": 2,
   "metadata": {},
   "outputs": [],
   "source": [
    "findspark.init()"
   ]
  },
  {
   "cell_type": "code",
   "execution_count": 3,
   "metadata": {},
   "outputs": [],
   "source": [
    "import pyspark"
   ]
  },
  {
   "cell_type": "code",
   "execution_count": 4,
   "metadata": {},
   "outputs": [],
   "source": [
    "from pyspark.sql import SparkSession"
   ]
  },
  {
   "cell_type": "code",
   "execution_count": 5,
   "metadata": {},
   "outputs": [],
   "source": [
    "spark = SparkSession.builder.getOrCreate()"
   ]
  },
  {
   "cell_type": "code",
   "execution_count": 25,
   "metadata": {},
   "outputs": [],
   "source": [
    "df=spark.read.csv(\"cervical_cancer.csv\",header=True,mode=\"DROPMALFORMED\",inferSchema='true')"
   ]
  },
  {
   "cell_type": "code",
   "execution_count": 34,
   "metadata": {},
   "outputs": [
    {
     "data": {
      "text/plain": [
       "DataFrame[behavior_sexualRisk: int, behavior_eating: int, behavior_personalHygine: int, intention_aggregation: int, intention_commitment: int, attitude_consistency: int, attitude_spontaneity: int, norm_significantPerson: int, norm_fulfillment: int, perception_vulnerability: int, perception_severity: int, motivation_strength: int, motivation_willingness: int, socialSupport_emotionality: int, socialSupport_appreciation: int, socialSupport_instrumental: int, empowerment_knowledge: int, empowerment_abilities: int, empowerment_desires: int, ca_cervix: int]"
      ]
     },
     "execution_count": 34,
     "metadata": {},
     "output_type": "execute_result"
    }
   ],
   "source": [
    "df"
   ]
  },
  {
   "cell_type": "code",
   "execution_count": 35,
   "metadata": {},
   "outputs": [
    {
     "name": "stdout",
     "output_type": "stream",
     "text": [
      "+-------------------+---------------+-----------------------+---------------------+--------------------+--------------------+--------------------+----------------------+----------------+------------------------+-------------------+-------------------+----------------------+--------------------------+--------------------------+--------------------------+---------------------+---------------------+-------------------+---------+\n",
      "|behavior_sexualRisk|behavior_eating|behavior_personalHygine|intention_aggregation|intention_commitment|attitude_consistency|attitude_spontaneity|norm_significantPerson|norm_fulfillment|perception_vulnerability|perception_severity|motivation_strength|motivation_willingness|socialSupport_emotionality|socialSupport_appreciation|socialSupport_instrumental|empowerment_knowledge|empowerment_abilities|empowerment_desires|ca_cervix|\n",
      "+-------------------+---------------+-----------------------+---------------------+--------------------+--------------------+--------------------+----------------------+----------------+------------------------+-------------------+-------------------+----------------------+--------------------------+--------------------------+--------------------------+---------------------+---------------------+-------------------+---------+\n",
      "|                 10|             13|                     12|                    4|                   7|                   9|                  10|                     1|               8|                       7|                  3|                 14|                     8|                         5|                         7|                        12|                   12|                   11|                  8|        1|\n",
      "|                 10|             11|                     11|                   10|                  14|                   7|                   7|                     5|               5|                       4|                  2|                 15|                    13|                         7|                         6|                         5|                    5|                    4|                  4|        1|\n",
      "|                 10|             15|                      3|                    2|                  14|                   8|                  10|                     1|               4|                       7|                  2|                  7|                     3|                         3|                         6|                        11|                    3|                    3|                 15|        1|\n",
      "|                 10|             11|                     10|                   10|                  15|                   7|                   7|                     1|               5|                       4|                  2|                 15|                    13|                         7|                         4|                         4|                    4|                    4|                  4|        1|\n",
      "|                  8|             11|                      7|                    8|                  10|                   7|                   8|                     1|               5|                       3|                  2|                 15|                     5|                         3|                         6|                        12|                    5|                    4|                  7|        1|\n",
      "|                 10|             14|                      8|                    6|                  15|                   8|                  10|                     1|               3|                       4|                  2|                 14|                     8|                         7|                         2|                         7|                   13|                    9|                  6|        1|\n",
      "|                 10|             15|                      4|                    6|                  14|                   6|                  10|                     5|               3|                       7|                  2|                  7|                    13|                         3|                         3|                        15|                    3|                    3|                  5|        1|\n",
      "|                  8|             12|                      9|                   10|                  10|                   5|                  10|                     5|               5|                       5|                  2|                 10|                     9|                        13|                         2|                         9|                    8|                    7|                 12|        1|\n",
      "|                 10|             15|                      7|                    2|                  15|                   6|                  10|                     1|               3|                       5|                  2|                  9|                    15|                        13|                        10|                        15|                   13|                   15|                 15|        1|\n",
      "|                  7|             15|                      7|                    6|                  11|                   8|                   8|                     5|               3|                       3|                  4|                 15|                     3|                         8|                         2|                         9|                    3|                    4|                  4|        1|\n",
      "|                  7|             15|                      7|                   10|                  14|                   7|                   9|                     1|               3|                       8|                  2|                  4|                     3|                         7|                         9|                        13|                    8|                    3|                  9|        1|\n",
      "|                 10|             15|                      8|                    9|                  15|                   7|                  10|                     1|               3|                       7|                  2|                 15|                     3|                         3|                         6|                        13|                    7|                    5|                  9|        1|\n",
      "|                 10|             15|                     12|                   10|                  15|                   6|                  10|                     1|               3|                       3|                  2|                  4|                     3|                         3|                         2|                        15|                   13|                    6|                 11|        1|\n",
      "|                  9|             12|                     14|                    9|                  15|                  10|                   9|                     3|               6|                       3|                  2|                 15|                    15|                         3|                        10|                        15|                   11|                    3|                 11|        1|\n",
      "|                  2|             15|                     15|                    6|                  13|                   8|                   9|                     1|               3|                       3|                  4|                 15|                     3|                         7|                         6|                         7|                    7|                    7|                  3|        1|\n",
      "|                 10|             15|                      7|                    6|                  14|                   8|                   8|                     4|               8|                      10|                  2|                  3|                     3|                         3|                         2|                         5|                    5|                    5|                  3|        1|\n",
      "|                 10|             15|                      9|                    7|                   6|                   8|                   8|                     1|              12|                       5|                  4|                  5|                     4|                         3|                         3|                         5|                    7|                    7|                  3|        1|\n",
      "|                 10|             12|                      7|                    5|                  10|                   8|                   8|                     1|               8|                      10|                  4|                  6|                     3|                         3|                         2|                         4|                    4|                    3|                  5|        1|\n",
      "|                 10|             11|                     12|                    2|                  10|                   8|                   8|                     2|              10|                       8|                  7|                  6|                     5|                         3|                         2|                         4|                    4|                    4|                  3|        1|\n",
      "|                 10|             12|                     12|                    8|                  10|                   8|                   6|                     2|               7|                       6|                  2|                 12|                    11|                         9|                         8|                        12|                   10|                   10|                  9|        1|\n",
      "+-------------------+---------------+-----------------------+---------------------+--------------------+--------------------+--------------------+----------------------+----------------+------------------------+-------------------+-------------------+----------------------+--------------------------+--------------------------+--------------------------+---------------------+---------------------+-------------------+---------+\n",
      "only showing top 20 rows\n",
      "\n"
     ]
    }
   ],
   "source": [
    "df.show()"
   ]
  },
  {
   "cell_type": "code",
   "execution_count": null,
   "metadata": {},
   "outputs": [],
   "source": []
  }
 ],
 "metadata": {
  "kernelspec": {
   "display_name": "Python 3",
   "language": "python",
   "name": "python3"
  },
  "language_info": {
   "codemirror_mode": {
    "name": "ipython",
    "version": 3
   },
   "file_extension": ".py",
   "mimetype": "text/x-python",
   "name": "python",
   "nbconvert_exporter": "python",
   "pygments_lexer": "ipython3",
   "version": "3.8.3"
  }
 },
 "nbformat": 4,
 "nbformat_minor": 4
}
