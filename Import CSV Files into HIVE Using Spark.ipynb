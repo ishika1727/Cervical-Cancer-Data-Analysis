{
 "cells": [
  {
   "cell_type": "code",
   "execution_count": 29,
   "metadata": {},
   "outputs": [],
   "source": [
    "from os.path import expanduser,join,abspath"
   ]
  },
  {
   "cell_type": "code",
   "execution_count": 30,
   "metadata": {},
   "outputs": [],
   "source": [
    "import findspark"
   ]
  },
  {
   "cell_type": "code",
   "execution_count": 31,
   "metadata": {},
   "outputs": [],
   "source": [
    "findspark.init()"
   ]
  },
  {
   "cell_type": "code",
   "execution_count": 32,
   "metadata": {},
   "outputs": [],
   "source": [
    "import pyspark"
   ]
  },
  {
   "cell_type": "code",
   "execution_count": 33,
   "metadata": {},
   "outputs": [],
   "source": [
    "from pyspark.sql import SparkSession"
   ]
  },
  {
   "cell_type": "code",
   "execution_count": 34,
   "metadata": {},
   "outputs": [],
   "source": [
    "from pyspark.sql import Row"
   ]
  },
  {
   "cell_type": "code",
   "execution_count": 37,
   "metadata": {},
   "outputs": [],
   "source": [
    " from pyspark.sql.types import *"
   ]
  },
  {
   "cell_type": "code",
   "execution_count": 38,
   "metadata": {},
   "outputs": [],
   "source": [
    "from pyspark.sql import HiveContext"
   ]
  },
  {
   "cell_type": "code",
   "execution_count": 43,
   "metadata": {},
   "outputs": [],
   "source": [
    "sc = spark.sparkContext"
   ]
  },
  {
   "cell_type": "code",
   "execution_count": 44,
   "metadata": {},
   "outputs": [],
   "source": [
    "csv_data = sc.textFile(\"cervical_cancer.csv\")"
   ]
  },
  {
   "cell_type": "code",
   "execution_count": 45,
   "metadata": {},
   "outputs": [
    {
     "data": {
      "text/plain": [
       "pyspark.rdd.RDD"
      ]
     },
     "execution_count": 45,
     "metadata": {},
     "output_type": "execute_result"
    }
   ],
   "source": [
    "type(csv_data)"
   ]
  },
  {
   "cell_type": "code",
   "execution_count": 46,
   "metadata": {},
   "outputs": [],
   "source": [
    "csv_data  = csv_data.map(lambda p: p.split(\",\"))"
   ]
  },
  {
   "cell_type": "code",
   "execution_count": 47,
   "metadata": {},
   "outputs": [],
   "source": [
    "header = csv_data.first()"
   ]
  },
  {
   "cell_type": "code",
   "execution_count": 48,
   "metadata": {},
   "outputs": [],
   "source": [
    "csv_data = csv_data.filter(lambda p:p != header)"
   ]
  },
  {
   "cell_type": "code",
   "execution_count": 49,
   "metadata": {},
   "outputs": [],
   "source": [
    "df_csv = csv_data.map(lambda p: Row(behavior_sexualRisk = int(p[0]), behavior_eating = p[1], perception_vulnerability=p[2], motivation_strength=p[3], ca_cervix=p[4])).toDF()"
   ]
  },
  {
   "cell_type": "code",
   "execution_count": 50,
   "metadata": {},
   "outputs": [
    {
     "name": "stdout",
     "output_type": "stream",
     "text": [
      "+-------------------+---------------+------------------------+-------------------+---------+\n",
      "|behavior_sexualRisk|behavior_eating|perception_vulnerability|motivation_strength|ca_cervix|\n",
      "+-------------------+---------------+------------------------+-------------------+---------+\n",
      "|                 10|             13|                      12|                  4|        7|\n",
      "|                 10|             11|                      11|                 10|       14|\n",
      "|                 10|             15|                       3|                  2|       14|\n",
      "|                 10|             11|                      10|                 10|       15|\n",
      "|                  8|             11|                       7|                  8|       10|\n",
      "+-------------------+---------------+------------------------+-------------------+---------+\n",
      "only showing top 5 rows\n",
      "\n"
     ]
    }
   ],
   "source": [
    "df_csv.show(5)"
   ]
  },
  {
   "cell_type": "code",
   "execution_count": 51,
   "metadata": {},
   "outputs": [
    {
     "name": "stdout",
     "output_type": "stream",
     "text": [
      "+-------------------+---------------+------------------------+-------------------+---------+\n",
      "|behavior_sexualRisk|behavior_eating|perception_vulnerability|motivation_strength|ca_cervix|\n",
      "+-------------------+---------------+------------------------+-------------------+---------+\n",
      "|                 10|             13|                      12|                  4|        7|\n",
      "|                 10|             11|                      11|                 10|       14|\n",
      "|                 10|             15|                       3|                  2|       14|\n",
      "|                 10|             11|                      10|                 10|       15|\n",
      "|                  8|             11|                       7|                  8|       10|\n",
      "|                 10|             14|                       8|                  6|       15|\n",
      "|                 10|             15|                       4|                  6|       14|\n",
      "|                  8|             12|                       9|                 10|       10|\n",
      "|                 10|             15|                       7|                  2|       15|\n",
      "|                  7|             15|                       7|                  6|       11|\n",
      "|                  7|             15|                       7|                 10|       14|\n",
      "|                 10|             15|                       8|                  9|       15|\n",
      "|                 10|             15|                      12|                 10|       15|\n",
      "|                  9|             12|                      14|                  9|       15|\n",
      "|                  2|             15|                      15|                  6|       13|\n",
      "|                 10|             15|                       7|                  6|       14|\n",
      "|                 10|             15|                       9|                  7|        6|\n",
      "|                 10|             12|                       7|                  5|       10|\n",
      "|                 10|             11|                      12|                  2|       10|\n",
      "|                 10|             12|                      12|                  8|       10|\n",
      "+-------------------+---------------+------------------------+-------------------+---------+\n",
      "only showing top 20 rows\n",
      "\n"
     ]
    }
   ],
   "source": [
    "df_csv.show(20)"
   ]
  },
  {
   "cell_type": "code",
   "execution_count": 53,
   "metadata": {},
   "outputs": [
    {
     "name": "stdout",
     "output_type": "stream",
     "text": [
      "root\n",
      " |-- behavior_sexualRisk: long (nullable = true)\n",
      " |-- behavior_eating: string (nullable = true)\n",
      " |-- perception_vulnerability: string (nullable = true)\n",
      " |-- motivation_strength: string (nullable = true)\n",
      " |-- ca_cervix: string (nullable = true)\n",
      "\n"
     ]
    }
   ],
   "source": [
    "df_csv.printSchema()"
   ]
  },
  {
   "cell_type": "code",
   "execution_count": 54,
   "metadata": {},
   "outputs": [],
   "source": [
    "hc=HiveContext(sc)"
   ]
  },
  {
   "cell_type": "code",
   "execution_count": 66,
   "metadata": {},
   "outputs": [],
   "source": [
    "df_csv.write.format(\"orc\").saveAsTable(\"demo\")"
   ]
  },
  {
   "cell_type": "code",
   "execution_count": null,
   "metadata": {},
   "outputs": [],
   "source": []
  }
 ],
 "metadata": {
  "kernelspec": {
   "display_name": "Python 3",
   "language": "python",
   "name": "python3"
  },
  "language_info": {
   "codemirror_mode": {
    "name": "ipython",
    "version": 3
   },
   "file_extension": ".py",
   "mimetype": "text/x-python",
   "name": "python",
   "nbconvert_exporter": "python",
   "pygments_lexer": "ipython3",
   "version": "3.8.3"
  }
 },
 "nbformat": 4,
 "nbformat_minor": 4
}
